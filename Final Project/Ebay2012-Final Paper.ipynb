{
 "cells": [
  {
   "cell_type": "markdown",
   "metadata": {},
   "source": [
    "# Maximizing profits for Cartier watches and Xbox consoles on Ebay in 2012\n",
    "\n",
    "## Jason Phennicie\n",
    "\n",
    "Dataset:\n",
    "\n",
    "https://www.modelingonlineauctions.com/datasets\n",
    "\n",
    "Credit to Wolfgang Jank and Galit Shmueli for gathering and publishing these datasets.\n",
    "\n",
    "Motivation:\n",
    "\n",
    "This dataset contains bid information for several hundred auctions of specific items in 2012.\n",
    "\n",
    "The objective of this notebook is to find out what auction duration results in the highest return to the auctioneer by examining the average price increases in each auction type.\n",
    "\n",
    "Related readings:\n",
    "\n",
    "https://www.kiplinger.com/slideshow/business/t057-s001-9-secrets-to-make-more-money-on-your-ebay-auctions/index.html\n",
    "\n",
    "https://www.ecommercebytes.com/2021/05/08/ebay-selling-strategy-auction-versus-buy-it-now/"
   ]
  },
  {
   "cell_type": "code",
   "execution_count": 1,
   "metadata": {},
   "outputs": [],
   "source": [
    "import pandas as pd\n",
    "import csv\n",
    "import numpy as np\n",
    "import seaborn as sns\n",
    "import matplotlib.pyplot as plt\n",
    "%matplotlib inline\n",
    "sns.set(style=\"darkgrid\")"
   ]
  },
  {
   "cell_type": "markdown",
   "metadata": {},
   "source": [
    "## Import csv data into pandas dataframes"
   ]
  },
  {
   "cell_type": "code",
   "execution_count": 2,
   "metadata": {},
   "outputs": [],
   "source": [
    "def read_file(file):\n",
    "    return pd.read_csv(file)"
   ]
  },
  {
   "cell_type": "code",
   "execution_count": 3,
   "metadata": {},
   "outputs": [],
   "source": [
    "xbox_3d = \"Xbox 3-day auctions.csv\"\n",
    "xbox_5d = \"Xbox 5-day auctions.csv\"\n",
    "xbox_7d = \"Xbox 7-day auctions.csv\"\n",
    "\n",
    "watch_3d = \"Cartier+3-day+auctions.csv\"\n",
    "watch_5d = \"Cartier+5-day+auctions.csv\"\n",
    "watch_7d = \"Cartier+7-day+auctions.csv\""
   ]
  },
  {
   "cell_type": "code",
   "execution_count": 4,
   "metadata": {},
   "outputs": [
    {
     "name": "stdout",
     "output_type": "stream",
     "text": [
      "auctionid       int64\n",
      "bid           float64\n",
      "bidtime       float64\n",
      "bidder         object\n",
      "bidderrate      int64\n",
      "openbid       float64\n",
      "price         float64\n",
      "dtype: object \n",
      "\n",
      " auctionid       int64\n",
      "bid           float64\n",
      "bidtime       float64\n",
      "bidder         object\n",
      "bidderrate      int64\n",
      "openbid       float64\n",
      "price         float64\n",
      "dtype: object\n"
     ]
    }
   ],
   "source": [
    "xbox3df = read_file(xbox_3d)\n",
    "xbox5df = read_file(xbox_5d)\n",
    "xbox7df = read_file(xbox_7d)\n",
    "\n",
    "watch3df = read_file(watch_3d)\n",
    "watch5df = read_file(watch_5d)\n",
    "watch7df = read_file(watch_7d)\n",
    "print(xbox3df.dtypes, \"\\n\\n\", watch3df.dtypes)"
   ]
  },
  {
   "cell_type": "markdown",
   "metadata": {},
   "source": [
    "## Evaluate dataframe for null values and replace them."
   ]
  },
  {
   "cell_type": "code",
   "execution_count": 5,
   "metadata": {},
   "outputs": [
    {
     "name": "stdout",
     "output_type": "stream",
     "text": [
      "4\n",
      "0\n",
      "23\n"
     ]
    }
   ],
   "source": [
    "print(xbox3df.isnull().values.sum())\n",
    "print(xbox5df.isnull().values.sum())\n",
    "print(xbox7df.isnull().values.sum())"
   ]
  },
  {
   "cell_type": "code",
   "execution_count": 6,
   "metadata": {},
   "outputs": [
    {
     "data": {
      "text/plain": [
       "0"
      ]
     },
     "execution_count": 6,
     "metadata": {},
     "output_type": "execute_result"
    }
   ],
   "source": [
    "xbox3df['bidder'].fillna(\"Empty\", inplace = True)\n",
    "xbox3df['bidder'].isnull().values.sum()"
   ]
  },
  {
   "cell_type": "code",
   "execution_count": 7,
   "metadata": {},
   "outputs": [
    {
     "data": {
      "text/plain": [
       "0"
      ]
     },
     "execution_count": 7,
     "metadata": {},
     "output_type": "execute_result"
    }
   ],
   "source": [
    "xbox7df['bidder'].fillna(\"Empty\", inplace = True)\n",
    "xbox7df['bidder'].isnull().values.sum()\n",
    "\n",
    "xbox7df['bidderrate'].fillna(\"0\", inplace = True)\n",
    "xbox7df['bidder'].isnull().values.sum()"
   ]
  },
  {
   "cell_type": "code",
   "execution_count": 8,
   "metadata": {},
   "outputs": [
    {
     "name": "stdout",
     "output_type": "stream",
     "text": [
      "0\n",
      "0\n",
      "0\n"
     ]
    }
   ],
   "source": [
    "print(watch3df.isnull().values.sum())\n",
    "print(watch5df.isnull().values.sum())\n",
    "print(watch7df.isnull().values.sum())"
   ]
  },
  {
   "cell_type": "markdown",
   "metadata": {},
   "source": [
    "## Remove duplicate values from each dataframe.\n",
    "\n",
    "Each auction has a multitude of bidders. This causes the dataframe to be very bloated. This process removes duplicate 'auctionid' entry and keeps the important information: Initial bid and final selling price of the item."
   ]
  },
  {
   "cell_type": "code",
   "execution_count": 9,
   "metadata": {},
   "outputs": [],
   "source": [
    "xbox3df = xbox3df.drop_duplicates(subset='auctionid',keep='first', inplace=False)\n",
    "xbox5df = xbox5df.drop_duplicates(subset='auctionid',keep='first', inplace=False)\n",
    "xbox7df = xbox7df.drop_duplicates(subset='auctionid',keep='first', inplace=False)\n",
    "\n",
    "watch3df = watch3df.drop_duplicates(subset='auctionid',keep='first', inplace=False)\n",
    "watch5df = watch5df.drop_duplicates(subset='auctionid',keep='first', inplace=False)\n",
    "watch7df = watch7df.drop_duplicates(subset='auctionid',keep='first', inplace=False)"
   ]
  },
  {
   "cell_type": "markdown",
   "metadata": {},
   "source": [
    "## Finding mean and standard deviations for each dataset"
   ]
  },
  {
   "cell_type": "code",
   "execution_count": 10,
   "metadata": {},
   "outputs": [],
   "source": [
    "#mean calc\n",
    "pAvgX3d = xbox3df['bid'].mean()\n",
    "pAvgX5d = xbox5df['bid'].mean()\n",
    "pAvgX7d = xbox7df['bid'].mean()\n",
    "\n",
    "pAvgW3d = watch3df['bid'].mean()\n",
    "pAvgW5d = watch5df['bid'].mean()\n",
    "pAvgW7d = watch7df['bid'].mean()\n",
    "\n",
    "\n",
    "fAvgX3d = xbox3df['price'].mean()\n",
    "fAvgX5d = xbox5df['price'].mean()\n",
    "fAvgX7d = xbox7df['price'].mean()\n",
    "\n",
    "fAvgW3d = watch3df['price'].mean()\n",
    "fAvgW5d = watch5df['price'].mean()\n",
    "fAvgW7d = watch7df['price'].mean()\n",
    "\n",
    "#-----------------------------------\n",
    "#Std calc\n",
    "pStdX3d = xbox3df['bid'].std()\n",
    "pStdX5d = xbox5df['bid'].std()\n",
    "pStdX7d = xbox7df['bid'].std()\n",
    "\n",
    "fStdX3d = xbox3df['price'].std()\n",
    "fStdX5d = xbox5df['price'].std()\n",
    "fStdX7d = xbox7df['price'].std()\n",
    "\n",
    "pStdW3d = watch3df['bid'].std()\n",
    "pStdW5d = watch5df['bid'].std()\n",
    "pStdW7d = watch7df['bid'].std()\n",
    "\n",
    "fStdW3d = watch3df['price'].std()\n",
    "fStdW5d = watch5df['price'].std()\n",
    "fStdW7d = watch7df['price'].std()\n",
    "\n",
    "\n",
    "time = [3,5,7]\n",
    "pre_price_x = [pAvgX3d, pAvgX5d, pAvgX7d]\n",
    "fin_price_x = [fAvgX3d, fAvgX5d, fAvgX7d]\n",
    "\n",
    "pre_price_w = [pAvgW3d, pAvgW5d, pAvgW7d]\n",
    "fin_price_w = [fAvgW3d, fAvgW5d, fAvgW7d]\n",
    "\n",
    "pre_std_x = [pStdX3d, pStdX5d, pStdX7d]\n",
    "fin_std_x = [fStdX3d, fStdX5d, fStdX7d]\n",
    "\n",
    "pre_std_w = [pStdW3d, pStdW5d, pStdW7d]\n",
    "fin_std_w = [fStdW3d, fStdW5d, fStdW7d]"
   ]
  },
  {
   "cell_type": "code",
   "execution_count": 27,
   "metadata": {},
   "outputs": [],
   "source": [
    "price_inc_xbox = []\n",
    "price_inc_watch = []\n",
    "for x in range(0,3):\n",
    "    price_inc_x = fin_price_x[x]-pre_price_x[x]\n",
    "    price_inc_xbox.append(float(price_inc_x))\n",
    "    \n",
    "    price_inc_w = fin_price_w[x]-pre_price_w[x]\n",
    "    price_inc_watch.append(float(price_inc_w))\n",
    "    \n",
    "price_perc_x =[]\n",
    "price_perc_w = []\n",
    "for x in range(0,3):\n",
    "    perc_inc_x = (fin_price_x[x]/pre_price_x[x])*100\n",
    "    price_perc_x.append(perc_inc_x)\n",
    "    \n",
    "    perc_inc_w = (fin_price_w[x]/pre_price_w[x])*100\n",
    "    price_perc_w.append(perc_inc_w)\n"
   ]
  },
  {
   "cell_type": "markdown",
   "metadata": {},
   "source": [
    "## Create new dataframes of initial and final prices of each auction type"
   ]
  },
  {
   "cell_type": "code",
   "execution_count": 12,
   "metadata": {
    "scrolled": true
   },
   "outputs": [],
   "source": [
    "xbox_df = pd.DataFrame(list(zip(time, pre_price_x, fin_price_x, pre_std_x, fin_std_x)),\n",
    "               columns =['Time limit','Avg Starting bid', 'Avg Final price','pStd','fStd'])\n",
    "watch_df = pd.DataFrame(list(zip(time, pre_price_w, fin_price_w, pre_std_w, fin_std_w)),\n",
    "               columns =['Time limit','Avg Starting bid', 'Avg Final price','pStd', 'fStd'])\n",
    "\n",
    "\n",
    "xbox_df_p = pd.DataFrame(list(zip(time, price_perc_x)),\n",
    "               columns =['Time limit', 'Percent increase'])\n",
    "watch_df_p = pd.DataFrame(list(zip(time, price_perc_w)),\n",
    "               columns =['Time limit', 'Percent increase'])"
   ]
  },
  {
   "cell_type": "markdown",
   "metadata": {},
   "source": [
    "# Data plots \n",
    "\n",
    "## Xbox consoles"
   ]
  },
  {
   "cell_type": "code",
   "execution_count": 13,
   "metadata": {},
   "outputs": [
    {
     "name": "stdout",
     "output_type": "stream",
     "text": [
      "Xbox statistics\n"
     ]
    },
    {
     "data": {
      "text/html": [
       "<div>\n",
       "<style scoped>\n",
       "    .dataframe tbody tr th:only-of-type {\n",
       "        vertical-align: middle;\n",
       "    }\n",
       "\n",
       "    .dataframe tbody tr th {\n",
       "        vertical-align: top;\n",
       "    }\n",
       "\n",
       "    .dataframe thead th {\n",
       "        text-align: right;\n",
       "    }\n",
       "</style>\n",
       "<table border=\"1\" class=\"dataframe\">\n",
       "  <thead>\n",
       "    <tr style=\"text-align: right;\">\n",
       "      <th></th>\n",
       "      <th>Time limit</th>\n",
       "      <th>Avg Starting bid</th>\n",
       "      <th>Avg Final price</th>\n",
       "      <th>pStd</th>\n",
       "      <th>fStd</th>\n",
       "    </tr>\n",
       "  </thead>\n",
       "  <tbody>\n",
       "    <tr>\n",
       "      <th>0</th>\n",
       "      <td>3</td>\n",
       "      <td>53.650000</td>\n",
       "      <td>118.426571</td>\n",
       "      <td>40.068650</td>\n",
       "      <td>34.204930</td>\n",
       "    </tr>\n",
       "    <tr>\n",
       "      <th>1</th>\n",
       "      <td>5</td>\n",
       "      <td>71.481905</td>\n",
       "      <td>139.052381</td>\n",
       "      <td>80.811197</td>\n",
       "      <td>86.153191</td>\n",
       "    </tr>\n",
       "    <tr>\n",
       "      <th>2</th>\n",
       "      <td>7</td>\n",
       "      <td>45.584731</td>\n",
       "      <td>134.576989</td>\n",
       "      <td>40.450127</td>\n",
       "      <td>66.032041</td>\n",
       "    </tr>\n",
       "  </tbody>\n",
       "</table>\n",
       "</div>"
      ],
      "text/plain": [
       "   Time limit  Avg Starting bid  Avg Final price       pStd       fStd\n",
       "0           3         53.650000       118.426571  40.068650  34.204930\n",
       "1           5         71.481905       139.052381  80.811197  86.153191\n",
       "2           7         45.584731       134.576989  40.450127  66.032041"
      ]
     },
     "metadata": {},
     "output_type": "display_data"
    }
   ],
   "source": [
    "print(\"Xbox statistics\")\n",
    "display(xbox_df)"
   ]
  },
  {
   "cell_type": "code",
   "execution_count": 14,
   "metadata": {},
   "outputs": [
    {
     "data": {
      "image/png": "[encoded data removed]",
      "text/plain": [
       "<Figure size 432x288 with 1 Axes>"
      ]
     },
     "metadata": {},
     "output_type": "display_data"
    }
   ],
   "source": [
    "ax1 = sns.barplot(x=\"Time limit\", y=\"Avg Starting bid\", data=xbox_df).set(title='Avg starting bid for Xbox consoles')"
   ]
  },
  {
   "cell_type": "code",
   "execution_count": 15,
   "metadata": {
    "scrolled": true
   },
   "outputs": [
    {
     "data": {
      "image/png": "[encoded data removed]",
      "text/plain": [
       "<Figure size 432x288 with 1 Axes>"
      ]
     },
     "metadata": {},
     "output_type": "display_data"
    }
   ],
   "source": [
    "ax2 = sns.barplot(x=\"Time limit\", y=\"Avg Final price\", data=xbox_df).set(title='Avg final price for Xbox consoles')"
   ]
  },
  {
   "cell_type": "markdown",
   "metadata": {},
   "source": [
    "5 day auctions of Xbox consoles have a much higher initial listing price, around 72 USD compared to 3 day at around 53 USD and 7 day at around 45 USD. The final price of each console does not reflect this, as the 5 and 7 day auctions are similar in final price, while 3 day auctions average an approximately 16% lower final price. Keep in mind that the standard deviations for both initial and final prices are quite high, so the actual price can vary quite a bit."
   ]
  },
  {
   "cell_type": "markdown",
   "metadata": {},
   "source": [
    "## Cartier watches"
   ]
  },
  {
   "cell_type": "code",
   "execution_count": 16,
   "metadata": {},
   "outputs": [
    {
     "name": "stdout",
     "output_type": "stream",
     "text": [
      "Watch statistics\n"
     ]
    },
    {
     "data": {
      "text/html": [
       "<div>\n",
       "<style scoped>\n",
       "    .dataframe tbody tr th:only-of-type {\n",
       "        vertical-align: middle;\n",
       "    }\n",
       "\n",
       "    .dataframe tbody tr th {\n",
       "        vertical-align: top;\n",
       "    }\n",
       "\n",
       "    .dataframe thead th {\n",
       "        text-align: right;\n",
       "    }\n",
       "</style>\n",
       "<table border=\"1\" class=\"dataframe\">\n",
       "  <thead>\n",
       "    <tr style=\"text-align: right;\">\n",
       "      <th></th>\n",
       "      <th>Time limit</th>\n",
       "      <th>Avg Starting bid</th>\n",
       "      <th>Avg Final price</th>\n",
       "      <th>pStd</th>\n",
       "      <th>fStd</th>\n",
       "    </tr>\n",
       "  </thead>\n",
       "  <tbody>\n",
       "    <tr>\n",
       "      <th>0</th>\n",
       "      <td>3</td>\n",
       "      <td>283.777222</td>\n",
       "      <td>630.856667</td>\n",
       "      <td>331.350586</td>\n",
       "      <td>652.762131</td>\n",
       "    </tr>\n",
       "    <tr>\n",
       "      <th>1</th>\n",
       "      <td>5</td>\n",
       "      <td>393.688571</td>\n",
       "      <td>864.079048</td>\n",
       "      <td>640.753161</td>\n",
       "      <td>713.383840</td>\n",
       "    </tr>\n",
       "    <tr>\n",
       "      <th>2</th>\n",
       "      <td>7</td>\n",
       "      <td>391.786907</td>\n",
       "      <td>936.069278</td>\n",
       "      <td>663.755612</td>\n",
       "      <td>882.121256</td>\n",
       "    </tr>\n",
       "  </tbody>\n",
       "</table>\n",
       "</div>"
      ],
      "text/plain": [
       "   Time limit  Avg Starting bid  Avg Final price        pStd        fStd\n",
       "0           3        283.777222       630.856667  331.350586  652.762131\n",
       "1           5        393.688571       864.079048  640.753161  713.383840\n",
       "2           7        391.786907       936.069278  663.755612  882.121256"
      ]
     },
     "metadata": {},
     "output_type": "display_data"
    }
   ],
   "source": [
    "print(\"Watch statistics\")\n",
    "display(watch_df)"
   ]
  },
  {
   "cell_type": "markdown",
   "metadata": {},
   "source": [
    "Notice that the standard deviations can be quite large - this is due to the drastically different starting prices on some auctions. Certain Cartier watches have an initial listing price of around 180 USD, while others are listed at 2000 USD."
   ]
  },
  {
   "cell_type": "code",
   "execution_count": 17,
   "metadata": {},
   "outputs": [
    {
     "data": {
      "image/png": "[encoded data removed]",
      "text/plain": [
       "<Figure size 432x288 with 1 Axes>"
      ]
     },
     "metadata": {},
     "output_type": "display_data"
    }
   ],
   "source": [
    "sns.set_theme(palette=\"dark\")\n",
    "ax1 = sns.barplot(x=\"Time limit\", y=\"Avg Starting bid\", data=watch_df).set(title='Avg starting bid for Cartier watches')"
   ]
  },
  {
   "cell_type": "code",
   "execution_count": 18,
   "metadata": {
    "scrolled": true
   },
   "outputs": [
    {
     "data": {
      "image/png": "[encoded data removed]",
      "text/plain": [
       "<Figure size 432x288 with 1 Axes>"
      ]
     },
     "metadata": {},
     "output_type": "display_data"
    }
   ],
   "source": [
    "ax2 = sns.barplot(x=\"Time limit\", y=\"Avg Final price\", data=watch_df).set(title='Avg final price for Cartier watches')"
   ]
  },
  {
   "cell_type": "markdown",
   "metadata": {},
   "source": [
    "## Percent increases on each auction"
   ]
  },
  {
   "cell_type": "code",
   "execution_count": 19,
   "metadata": {},
   "outputs": [
    {
     "data": {
      "text/html": [
       "<div>\n",
       "<style scoped>\n",
       "    .dataframe tbody tr th:only-of-type {\n",
       "        vertical-align: middle;\n",
       "    }\n",
       "\n",
       "    .dataframe tbody tr th {\n",
       "        vertical-align: top;\n",
       "    }\n",
       "\n",
       "    .dataframe thead th {\n",
       "        text-align: right;\n",
       "    }\n",
       "</style>\n",
       "<table border=\"1\" class=\"dataframe\">\n",
       "  <thead>\n",
       "    <tr style=\"text-align: right;\">\n",
       "      <th></th>\n",
       "      <th>Time limit</th>\n",
       "      <th>Percent increase</th>\n",
       "    </tr>\n",
       "  </thead>\n",
       "  <tbody>\n",
       "    <tr>\n",
       "      <th>0</th>\n",
       "      <td>3</td>\n",
       "      <td>220.739183</td>\n",
       "    </tr>\n",
       "    <tr>\n",
       "      <th>1</th>\n",
       "      <td>5</td>\n",
       "      <td>194.528086</td>\n",
       "    </tr>\n",
       "    <tr>\n",
       "      <th>2</th>\n",
       "      <td>7</td>\n",
       "      <td>295.223830</td>\n",
       "    </tr>\n",
       "  </tbody>\n",
       "</table>\n",
       "</div>"
      ],
      "text/plain": [
       "   Time limit  Percent increase\n",
       "0           3        220.739183\n",
       "1           5        194.528086\n",
       "2           7        295.223830"
      ]
     },
     "metadata": {},
     "output_type": "display_data"
    },
    {
     "data": {
      "image/png": "[encoded data removed]",
      "text/plain": [
       "<Figure size 432x288 with 1 Axes>"
      ]
     },
     "metadata": {},
     "output_type": "display_data"
    }
   ],
   "source": [
    "display(xbox_df_p)\n",
    "sns.set_theme(palette=\"pastel\")\n",
    "ax1 = sns.barplot(x=\"Time limit\", y=\"Percent increase\", data=xbox_df_p).set(title='Avg percent increase on Xbox console prices')"
   ]
  },
  {
   "cell_type": "code",
   "execution_count": 26,
   "metadata": {},
   "outputs": [
    {
     "data": {
      "text/html": [
       "<div>\n",
       "<style scoped>\n",
       "    .dataframe tbody tr th:only-of-type {\n",
       "        vertical-align: middle;\n",
       "    }\n",
       "\n",
       "    .dataframe tbody tr th {\n",
       "        vertical-align: top;\n",
       "    }\n",
       "\n",
       "    .dataframe thead th {\n",
       "        text-align: right;\n",
       "    }\n",
       "</style>\n",
       "<table border=\"1\" class=\"dataframe\">\n",
       "  <thead>\n",
       "    <tr style=\"text-align: right;\">\n",
       "      <th></th>\n",
       "      <th>Time limit</th>\n",
       "      <th>Percent increase</th>\n",
       "    </tr>\n",
       "  </thead>\n",
       "  <tbody>\n",
       "    <tr>\n",
       "      <th>0</th>\n",
       "      <td>3</td>\n",
       "      <td>222.307013</td>\n",
       "    </tr>\n",
       "    <tr>\n",
       "      <th>1</th>\n",
       "      <td>5</td>\n",
       "      <td>219.482888</td>\n",
       "    </tr>\n",
       "    <tr>\n",
       "      <th>2</th>\n",
       "      <td>7</td>\n",
       "      <td>238.923063</td>\n",
       "    </tr>\n",
       "  </tbody>\n",
       "</table>\n",
       "</div>"
      ],
      "text/plain": [
       "   Time limit  Percent increase\n",
       "0           3        222.307013\n",
       "1           5        219.482888\n",
       "2           7        238.923063"
      ]
     },
     "metadata": {},
     "output_type": "display_data"
    },
    {
     "data": {
      "image/png": "[encoded data removed]",
      "text/plain": [
       "<Figure size 432x288 with 1 Axes>"
      ]
     },
     "metadata": {},
     "output_type": "display_data"
    }
   ],
   "source": [
    "display(watch_df_p)\n",
    "sns.set_theme(palette=\"pastel\")\n",
    "ax1 = sns.barplot(x=\"Time limit\", y=\"Percent increase\", data=watch_df_p).set(title='Avg percent increase on Cartier watch prices')"
   ]
  },
  {
   "cell_type": "markdown",
   "metadata": {},
   "source": [
    "# Conclusion\n",
    "\n",
    "From the data we can conclude that the optimal amount of time to list an auction for is 7 days. \n",
    "\n",
    "While the average final sale value of Xbox consoles for 7 days is lower than 5 days, the increase in price from initial post to sale is substantially higher for 7 days(295%) than 5 days(220%). If auctioneers were to post their 7 day auctions for similar initial price to 5 day auctions, the final value would likely be much higher.\n",
    "\n",
    "Cartier watches express the same pattern, though with a less severe difference. While 7 day auctions produce the highest relative price increases, 3 and 5 day auction gains are right behind 7 days. 7 day auctions also boast much higher final prices."
   ]
  }
 ],
 "metadata": {
  "kernelspec": {
   "display_name": "Python 3",
   "language": "python",
   "name": "python3"
  },
  "language_info": {
   "codemirror_mode": {
    "name": "ipython",
    "version": 3
   },
   "file_extension": ".py",
   "mimetype": "text/x-python",
   "name": "python",
   "nbconvert_exporter": "python",
   "pygments_lexer": "ipython3",
   "version": "3.7.6"
  }
 },
 "nbformat": 4,
 "nbformat_minor": 5
}
